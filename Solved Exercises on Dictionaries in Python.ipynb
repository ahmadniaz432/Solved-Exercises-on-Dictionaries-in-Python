{
 "cells": [
  {
   "cell_type": "code",
   "execution_count": 65,
   "id": "2f48093a-5be6-41e4-a88b-0c58339e777d",
   "metadata": {},
   "outputs": [
    {
     "name": "stdout",
     "output_type": "stream",
     "text": [
      "{'name': 'Ahmad', 'age': 19, 'city': 'Lahore', 'hobbies': ['travelling', 'reading']}\n"
     ]
    }
   ],
   "source": [
    "##Create a dictionary to store information about a person (name, age, city, hobbies)\n",
    "\n",
    "person = {\n",
    "    \"name\" : \"Ahmad\",\n",
    "    \"age\" : 19,\n",
    "    \"city\" : \"Lahore\",\n",
    "    \"hobbies\" : [\"travelling\", \"reading\"]\n",
    "}\n",
    "print(person)"
   ]
  },
  {
   "cell_type": "code",
   "execution_count": 47,
   "id": "12692789-b202-4b48-8127-9e50fd983278",
   "metadata": {},
   "outputs": [
    {
     "name": "stdout",
     "output_type": "stream",
     "text": [
      "Counter({'Python': 1, 'is': 1, 'fun.': 1})\n"
     ]
    }
   ],
   "source": [
    "##Write a program to count the frequency of words in a given text\n",
    "\n",
    "from collections import Counter\n",
    "\n",
    "sample_text = \"Python is fun.\"\n",
    "words_list = sample_text.split()\n",
    "frequency_count = Counter(words_list)\n",
    "print(frequency_count)"
   ]
  },
  {
   "cell_type": "code",
   "execution_count": 63,
   "id": "8aa2bf3b-c7bb-4eb5-b4b2-12a263d41fd9",
   "metadata": {},
   "outputs": [
    {
     "name": "stdout",
     "output_type": "stream",
     "text": [
      "{'biscuits': 10, 'beverages': 5, 'chips': 8}\n"
     ]
    }
   ],
   "source": [
    "##Implement a simple inventory system using dictionaries\n",
    "\n",
    "inventory = {\n",
    "    \"biscuits\": 10,\n",
    "    \"beverages\": 5,\n",
    "    \"chips\": 8\n",
    "}\n",
    "print(inventory)"
   ]
  },
  {
   "cell_type": "code",
   "execution_count": 61,
   "id": "ad276161-93f5-458c-8727-7164514ba3c5",
   "metadata": {},
   "outputs": [
    {
     "name": "stdout",
     "output_type": "stream",
     "text": [
      "('electronics', 3)\n"
     ]
    }
   ],
   "source": [
    "##Analyze a dataset of customer orders to find the most popular product category\n",
    "\n",
    "orders = [\n",
    "    {\"product\": \"laptop\", \"category\": \"electronics\"},\n",
    "    {\"product\": \"shirt\", \"category\": \"clothing\"},\n",
    "    {\"product\": \"phone\", \"category\": \"electronics\"},\n",
    "    {\"product\": \"jeans\", \"category\": \"clothing\"},\n",
    "    {\"product\": \"tablet\", \"category\": \"electronics\"}\n",
    "]\n",
    "\n",
    "category_count = Counter(order[\"category\"] for order in orders)\n",
    "most_popular_category = category_count.most_common(1)[0]\n",
    "print(most_popular_category)"
   ]
  },
  {
   "cell_type": "code",
   "execution_count": 59,
   "id": "cf53c834-5dba-4f81-8bf9-4ffe419e8180",
   "metadata": {},
   "outputs": [
    {
     "name": "stdout",
     "output_type": "stream",
     "text": [
      "Ahmad: 85.00\n",
      "Aun: 82.67\n",
      "Mohib: 91.67\n"
     ]
    }
   ],
   "source": [
    "##Create a dictionary to store student grades and calculate the average grade\n",
    "\n",
    "students = {\n",
    "    \"Ahmad\": [85, 92, 78],\n",
    "    \"Aun\": [79, 81, 88],\n",
    "    \"Mohib\": [91, 95, 89]\n",
    "}\n",
    "\n",
    "for student, grades in students.items():\n",
    "    average_grade = sum(grades) / len(grades)\n",
    "    print(f\"{student}: {average_grade:.2f}\")\n"
   ]
  },
  {
   "cell_type": "code",
   "execution_count": 57,
   "id": "657afd1e-4fb1-40c1-9526-f2824d3f541a",
   "metadata": {},
   "outputs": [
    {
     "name": "stdout",
     "output_type": "stream",
     "text": [
      "12400\n",
      "{}\n"
     ]
    }
   ],
   "source": [
    "##Inventory Management\n",
    "\n",
    "inventory= {}\n",
    "\n",
    "def add_product(name, quantity, price):\n",
    "    inventory[name] = {\"quantity\": quantity, \"price\": price}\n",
    "\n",
    "def update_quantity(name, quantity):\n",
    "    if name in inventory:\n",
    "        inventory[name][\"quantity\"] += quantity\n",
    "\n",
    "def calculate_total_value():\n",
    "    return sum(item[\"quantity\"] * item[\"price\"] for item in inventory.values())\n",
    "\n",
    "def report_low_stock(threshold):\n",
    "    return {name: item for name, item in inventory.items() if item[\"quantity\"] < threshold}\n",
    "    \n",
    "add_product(\"laptop\", 5, 800)\n",
    "add_product(\"phone\", 10, 600)\n",
    "update_quantity(\"laptop\", 3)\n",
    "total_value = calculate_total_value()\n",
    "low_stock = report_low_stock(5)\n",
    "print(total_value)\n",
    "print(low_stock)\n"
   ]
  },
  {
   "cell_type": "code",
   "execution_count": 67,
   "id": "1157005d-374b-4c5a-94a2-99e80d5502ad",
   "metadata": {},
   "outputs": [
    {
     "name": "stdout",
     "output_type": "stream",
     "text": [
      "Ahmad's average grade: 85.00\n",
      "Ali's average grade: 82.67\n",
      "Aun's average grade: 91.67\n",
      "Highest grade in Accounting: 91 by Aun\n",
      "Lowest grade in Accounting: 79 by Ali\n",
      "Students sorted by average grade: [('Aun', {'Accounting': 91, 'Management': 95, 'Programming': 89}), ('Ahmad', {'Accounting': 85, 'Management': 92, 'Programming': 78}), ('Ali', {'Accounting': 79, 'Management': 81, 'Programming': 88})]\n"
     ]
    }
   ],
   "source": [
    "##Student Gradebook\n",
    "\n",
    "grades = {\n",
    "    \"Ahmad\": {\"Accounting\": 85, \"Management\": 92, \"Programming\": 78},\n",
    "    \"Ali\": {\"Accounting\": 79, \"Management\": 81, \"Programming\": 88},\n",
    "    \"Aun\": {\"Accounting\": 91, \"Management\": 95, \"Programming\": 89}\n",
    "}\n",
    "\n",
    "for student, subjects in grades.items():\n",
    "    average = sum(subjects.values()) / len(subjects)\n",
    "    print(f\"{student}'s average grade: {average:.2f}\")\n",
    "\n",
    "subject = \"Accounting\"\n",
    "highest_grade = max(grades, key=lambda x: grades[x][subject])\n",
    "lowest_grade = min(grades, key=lambda x: grades[x][subject])\n",
    "print(f\"Highest grade in {subject}: {grades[highest_grade][subject]} by {highest_grade}\")\n",
    "print(f\"Lowest grade in {subject}: {grades[lowest_grade][subject]} by {lowest_grade}\")\n",
    "\n",
    "sorted_students = sorted(grades.items(), key=lambda x: sum(x[1].values()) / len(x[1]), reverse=True)\n",
    "print(\"Students sorted by average grade:\", sorted_students)"
   ]
  },
  {
   "cell_type": "code",
   "execution_count": 71,
   "id": "6c2ae630-ca89-4f6d-9505-603e0a8dce4b",
   "metadata": {},
   "outputs": [
    {
     "name": "stdout",
     "output_type": "stream",
     "text": [
      "Total cost after discount and tax: 731.5000000000001\n"
     ]
    }
   ],
   "source": [
    "##Simple E-commerce Store\n",
    "\n",
    "e_store = {\n",
    "    \"tablet\": {\"price\": 200, \"quantity\": 8},\n",
    "    \"headphones\": {\"price\": 50, \"quantity\": 15}\n",
    "}\n",
    "\n",
    "shopping_cart = {}\n",
    "\n",
    "def add_product_to_cart(product, quantity):\n",
    "    if product in e_store and e_store[product][\"quantity\"] >= quantity:\n",
    "        shopping_cart[product] = shopping_cart.get(product, 0) + quantity\n",
    "        e_store[product][\"quantity\"] -= quantity\n",
    "\n",
    "def remove_product_from_cart(product, quantity):\n",
    "    if product in shopping_cart and shopping_cart[product] >= quantity:\n",
    "        shopping_cart[product] -= quantity\n",
    "        e_store[product][\"quantity\"] += quantity\n",
    "        if shopping_cart[product] == 0:\n",
    "            del shopping_cart[product]\n",
    "\n",
    "def calculate_cart_total():\n",
    "    return sum(e_store[product][\"price\"] * quantity for product, quantity in shopping_cart.items())\n",
    "\n",
    "def apply_discounts_and_tax(total, discount, tax):\n",
    "    discounted_total = total * ((100 - discount) / 100)\n",
    "    final_total = discounted_total * ((100 + tax) / 100)\n",
    "    return final_total\n",
    "\n",
    "add_product_to_cart(\"tablet\", 3)\n",
    "add_product_to_cart(\"headphones\", 2)\n",
    "cart_total = calculate_cart_total()\n",
    "final_total = apply_discounts_and_tax(cart_total, 5, 10)\n",
    "print(\"Total cost after discount and tax:\", final_total)"
   ]
  }
 ],
 "metadata": {
  "kernelspec": {
   "display_name": "Python 3 (ipykernel)",
   "language": "python",
   "name": "python3"
  },
  "language_info": {
   "codemirror_mode": {
    "name": "ipython",
    "version": 3
   },
   "file_extension": ".py",
   "mimetype": "text/x-python",
   "name": "python",
   "nbconvert_exporter": "python",
   "pygments_lexer": "ipython3",
   "version": "3.12.4"
  }
 },
 "nbformat": 4,
 "nbformat_minor": 5
}
